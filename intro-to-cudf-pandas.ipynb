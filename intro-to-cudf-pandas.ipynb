{
 "cells": [
  {
   "cell_type": "markdown",
   "id": "590899b6-3e3e-430c-8dda-e3233af617c2",
   "metadata": {},
   "source": [
    "# 2 minutes to cudf.pandas 🚀🐼"
   ]
  },
  {
   "cell_type": "markdown",
   "id": "3d70e447-86ad-45e4-be2f-61fb52f91724",
   "metadata": {},
   "source": [
    "In this notebook, we're running some basic pandas functions with randomly generated data and timing them."
   ]
  },
  {
   "cell_type": "markdown",
   "id": "557e4d86-803b-4d9a-8dc1-225e7b336b55",
   "metadata": {},
   "source": [
    "Comment this line in or out depending on whether you want to enable `cudf.pandas`:"
   ]
  },
  {
   "cell_type": "code",
   "execution_count": null,
   "id": "40f20164-b5da-4354-997f-b3b4da0a9566",
   "metadata": {
    "tags": []
   },
   "outputs": [],
   "source": [
    "%load_ext cudf.pandas"
   ]
  },
  {
   "cell_type": "code",
   "execution_count": null,
   "id": "66f26e46-fc85-4cb6-b443-84c59093a062",
   "metadata": {
    "tags": []
   },
   "outputs": [],
   "source": [
    "import pandas as pd\n",
    "import numpy as np\n",
    "import random\n",
    "import string"
   ]
  },
  {
   "cell_type": "code",
   "execution_count": null,
   "id": "fa067fbc-ca79-4465-8e44-d40e92a6d5b4",
   "metadata": {
    "tags": []
   },
   "outputs": [],
   "source": [
    "pd.DataFrame({'a': [1]})  # warmup"
   ]
  },
  {
   "cell_type": "code",
   "execution_count": null,
   "id": "f4c4859a-aa18-4b78-b5ed-06c8f9078191",
   "metadata": {
    "tags": []
   },
   "outputs": [],
   "source": [
    "STRINGS = [\"\".join(random.choices(\"abcdefg\", k=5)) for _ in range(1000)] + [None]"
   ]
  },
  {
   "cell_type": "code",
   "execution_count": null,
   "id": "74f59c30-3057-41ac-b2df-130fc71bd25a",
   "metadata": {
    "tags": []
   },
   "outputs": [],
   "source": [
    "def make_df(size):\n",
    "    return pd.DataFrame(\n",
    "        {\n",
    "            \"id\": np.random.randint(low=0, high=100, size=size),\n",
    "            \"x\": np.random.rand(size),\n",
    "            \"y\": np.random.rand(size),\n",
    "            \"s\": random.choices(STRINGS, k=size)\n",
    "        }\n",
    "    )"
   ]
  },
  {
   "cell_type": "code",
   "execution_count": null,
   "id": "4a49700d-1696-4a41-9dd9-9abec9947cee",
   "metadata": {
    "tags": []
   },
   "outputs": [],
   "source": [
    "df1 = make_df(10_000_000)\n",
    "df2 = make_df(10_000)"
   ]
  },
  {
   "cell_type": "code",
   "execution_count": null,
   "id": "a32ea1a3-54cf-44a5-b0fe-a9ae270d3589",
   "metadata": {
    "tags": []
   },
   "outputs": [],
   "source": [
    "%%time\n",
    "df1.groupby(\"id\").mean()"
   ]
  },
  {
   "cell_type": "code",
   "execution_count": null,
   "id": "c2fd9d08-bceb-4081-ab63-7e0640fef5b6",
   "metadata": {
    "tags": []
   },
   "outputs": [],
   "source": [
    "%%time\n",
    "df1[\"s\"].str.contains(\"a\")"
   ]
  },
  {
   "cell_type": "code",
   "execution_count": null,
   "id": "e2f2ffaa-4cbd-4cfc-9083-9ddf1926661b",
   "metadata": {
    "tags": []
   },
   "outputs": [],
   "source": [
    "%%time\n",
    "df1.merge(df2, on=[\"id\", \"s\"], how=\"left\")"
   ]
  },
  {
   "cell_type": "code",
   "execution_count": null,
   "id": "d7f9a858-ce93-4e56-b0df-2674ee59a922",
   "metadata": {
    "tags": []
   },
   "outputs": [],
   "source": [
    "%%time\n",
    "df1.count(axis=0)"
   ]
  },
  {
   "cell_type": "code",
   "execution_count": null,
   "id": "b6bee12d-f939-4129-b822-1eaad18bc5c6",
   "metadata": {
    "tags": []
   },
   "outputs": [],
   "source": [
    "%%time\n",
    "df1.count(axis=1)"
   ]
  },
  {
   "cell_type": "markdown",
   "id": "5a373a85-5631-4408-a21b-f5e61074d0cd",
   "metadata": {},
   "source": [
    "## How does this work?"
   ]
  },
  {
   "cell_type": "markdown",
   "id": "45af6e91-90e7-45b5-92f7-61ced884207f",
   "metadata": {},
   "source": [
    "When we did `%load_ext cudf.pandas`, we made it so that `import pandas` (or any submodules) imports a proxy module:"
   ]
  },
  {
   "cell_type": "code",
   "execution_count": null,
   "id": "a2833e03-0a3b-47fd-94f9-148a6d40da43",
   "metadata": {
    "tags": []
   },
   "outputs": [],
   "source": [
    "pd"
   ]
  },
  {
   "cell_type": "markdown",
   "id": "58283c96-08db-4e8d-a394-c13ff2511a3c",
   "metadata": {},
   "source": [
    "That proxy module is composed of proxy functions, and proxy types containing proxy methods:"
   ]
  },
  {
   "cell_type": "code",
   "execution_count": null,
   "id": "8fa8945b-6a9c-448c-8afa-b04d261d97e2",
   "metadata": {
    "tags": []
   },
   "outputs": [],
   "source": [
    "print(type(pd.read_csv))\n",
    "print(type(pd.DataFrame))\n",
    "print(type(pd.DataFrame.max))"
   ]
  },
  {
   "cell_type": "markdown",
   "id": "5b44bedd-4ff9-4da8-b105-9d8b0cb64f97",
   "metadata": {},
   "source": [
    "Operations on proxy functions and methods dispatch to cuDF or pandas:"
   ]
  },
  {
   "cell_type": "markdown",
   "id": "c42270df-a43e-4133-87b6-ecc441564e1e",
   "metadata": {
    "tags": []
   },
   "source": [
    "<img src=\"how-cudf-pandas-works.png\" width=\"700\">"
   ]
  },
  {
   "cell_type": "markdown",
   "id": "a12226a1-dec7-4b76-8adf-03447d6e591d",
   "metadata": {},
   "source": [
    "### Why `.count(axis=1)` is slower when `cudf.pandas` is enabled?"
   ]
  },
  {
   "cell_type": "markdown",
   "id": "9336ec54-e966-4304-ab7e-37882b56372b",
   "metadata": {},
   "source": [
    "As you can see from the diagram above, when an operation isn't supported by cuDF, we copy data from GPU to CPU and then use pandas for that operation. This can be slow."
   ]
  },
  {
   "cell_type": "code",
   "execution_count": null,
   "id": "882ac274-47b7-4c9c-bb25-ba40c1d1a42f",
   "metadata": {
    "tags": []
   },
   "outputs": [],
   "source": [
    "# importing cudf directly to show that .count(axis=1) is not supported\n",
    "\n",
    "import cudf\n",
    "\n",
    "df = cudf.DataFrame({'a': [1, 2], 'b': [2, 3]})\n",
    "df.count(axis=1)"
   ]
  },
  {
   "cell_type": "markdown",
   "id": "2e98494d-1474-4fdc-972f-60e30b9f6713",
   "metadata": {},
   "source": [
    "## Can we use `cudf.pandas` with other libraries?"
   ]
  },
  {
   "cell_type": "markdown",
   "id": "6c77ee37-154e-4863-b9cf-adde44eaa403",
   "metadata": {},
   "source": [
    "When `cudf.pandas` enabled, you can still pass DataFrames to other libraries and expect things to work:"
   ]
  },
  {
   "cell_type": "code",
   "execution_count": null,
   "id": "d7ab3679-6e74-4334-bef0-62681c0f64ba",
   "metadata": {
    "tags": []
   },
   "outputs": [],
   "source": [
    "import seaborn as sns\n",
    "\n",
    "sns.scatterplot(x=df2.x[::10], y=df2.y[::10])"
   ]
  }
 ],
 "metadata": {
  "kernelspec": {
   "display_name": "Python 3 (ipykernel)",
   "language": "python",
   "name": "python3"
  },
  "language_info": {
   "codemirror_mode": {
    "name": "ipython",
    "version": 3
   },
   "file_extension": ".py",
   "mimetype": "text/x-python",
   "name": "python",
   "nbconvert_exporter": "python",
   "pygments_lexer": "ipython3",
   "version": "3.10.13"
  }
 },
 "nbformat": 4,
 "nbformat_minor": 5
}

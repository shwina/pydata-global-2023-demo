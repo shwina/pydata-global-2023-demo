{
 "cells": [
  {
   "cell_type": "markdown",
   "id": "590899b6-3e3e-430c-8dda-e3233af617c2",
   "metadata": {},
   "source": [
    "## Part 1: Quick intro to cudf.pandas 🚀🐼"
   ]
  },
  {
   "cell_type": "markdown",
   "id": "557e4d86-803b-4d9a-8dc1-225e7b336b55",
   "metadata": {},
   "source": [
    "Comment this line in or out depending on whether you want to enable `cudf.pandas`:"
   ]
  },
  {
   "cell_type": "code",
   "execution_count": 1,
   "id": "40f20164-b5da-4354-997f-b3b4da0a9566",
   "metadata": {
    "tags": []
   },
   "outputs": [],
   "source": [
    "#%load_ext cudf.pandas"
   ]
  },
  {
   "cell_type": "code",
   "execution_count": 2,
   "id": "66f26e46-fc85-4cb6-b443-84c59093a062",
   "metadata": {
    "tags": []
   },
   "outputs": [],
   "source": [
    "import pandas as pd\n",
    "import numpy as np\n",
    "import random\n",
    "import string"
   ]
  },
  {
   "cell_type": "markdown",
   "id": "6757b30c-a09f-45d2-baa6-55063734fd2e",
   "metadata": {},
   "source": [
    "In this section, we're running some basic pandas functions with randomly generated data and timing them."
   ]
  },
  {
   "cell_type": "code",
   "execution_count": 3,
   "id": "74f59c30-3057-41ac-b2df-130fc71bd25a",
   "metadata": {
    "tags": []
   },
   "outputs": [],
   "source": [
    "STRINGS = [\"\".join(random.choices(\"abcdefg\", k=5)) for _ in range(1000)] + [None]    \n",
    "\n",
    "def make_df(size):\n",
    "    return pd.DataFrame(\n",
    "        {\n",
    "            \"id\": np.random.randint(low=0, high=100, size=size),\n",
    "            \"x\": np.random.rand(size),\n",
    "            \"y\": np.random.rand(size),\n",
    "            \"s\": random.choices(STRINGS, k=size)\n",
    "        }\n",
    "    )\n",
    "\n",
    "df1 = make_df(10_000_000)\n",
    "df2 = make_df(10_000)"
   ]
  },
  {
   "cell_type": "code",
   "execution_count": 4,
   "id": "a32ea1a3-54cf-44a5-b0fe-a9ae270d3589",
   "metadata": {
    "tags": []
   },
   "outputs": [
    {
     "name": "stdout",
     "output_type": "stream",
     "text": [
      "CPU times: user 125 ms, sys: 32.6 ms, total: 158 ms\n",
      "Wall time: 155 ms\n"
     ]
    },
    {
     "name": "stderr",
     "output_type": "stream",
     "text": [
      "<timed eval>:1: FutureWarning: The default value of numeric_only in DataFrameGroupBy.mean is deprecated. In a future version, numeric_only will default to False. Either specify numeric_only or select only columns which should be valid for the function.\n"
     ]
    },
    {
     "data": {
      "text/html": [
       "<div>\n",
       "<style scoped>\n",
       "    .dataframe tbody tr th:only-of-type {\n",
       "        vertical-align: middle;\n",
       "    }\n",
       "\n",
       "    .dataframe tbody tr th {\n",
       "        vertical-align: top;\n",
       "    }\n",
       "\n",
       "    .dataframe thead th {\n",
       "        text-align: right;\n",
       "    }\n",
       "</style>\n",
       "<table border=\"1\" class=\"dataframe\">\n",
       "  <thead>\n",
       "    <tr style=\"text-align: right;\">\n",
       "      <th></th>\n",
       "      <th>x</th>\n",
       "      <th>y</th>\n",
       "    </tr>\n",
       "    <tr>\n",
       "      <th>id</th>\n",
       "      <th></th>\n",
       "      <th></th>\n",
       "    </tr>\n",
       "  </thead>\n",
       "  <tbody>\n",
       "    <tr>\n",
       "      <th>0</th>\n",
       "      <td>0.500602</td>\n",
       "      <td>0.499141</td>\n",
       "    </tr>\n",
       "    <tr>\n",
       "      <th>1</th>\n",
       "      <td>0.499032</td>\n",
       "      <td>0.500200</td>\n",
       "    </tr>\n",
       "    <tr>\n",
       "      <th>2</th>\n",
       "      <td>0.501185</td>\n",
       "      <td>0.499214</td>\n",
       "    </tr>\n",
       "    <tr>\n",
       "      <th>3</th>\n",
       "      <td>0.500134</td>\n",
       "      <td>0.500482</td>\n",
       "    </tr>\n",
       "    <tr>\n",
       "      <th>4</th>\n",
       "      <td>0.501114</td>\n",
       "      <td>0.500703</td>\n",
       "    </tr>\n",
       "    <tr>\n",
       "      <th>...</th>\n",
       "      <td>...</td>\n",
       "      <td>...</td>\n",
       "    </tr>\n",
       "    <tr>\n",
       "      <th>95</th>\n",
       "      <td>0.499146</td>\n",
       "      <td>0.501045</td>\n",
       "    </tr>\n",
       "    <tr>\n",
       "      <th>96</th>\n",
       "      <td>0.500299</td>\n",
       "      <td>0.500140</td>\n",
       "    </tr>\n",
       "    <tr>\n",
       "      <th>97</th>\n",
       "      <td>0.501476</td>\n",
       "      <td>0.500861</td>\n",
       "    </tr>\n",
       "    <tr>\n",
       "      <th>98</th>\n",
       "      <td>0.500133</td>\n",
       "      <td>0.499524</td>\n",
       "    </tr>\n",
       "    <tr>\n",
       "      <th>99</th>\n",
       "      <td>0.498224</td>\n",
       "      <td>0.499372</td>\n",
       "    </tr>\n",
       "  </tbody>\n",
       "</table>\n",
       "<p>100 rows × 2 columns</p>\n",
       "</div>"
      ],
      "text/plain": [
       "           x         y\n",
       "id                    \n",
       "0   0.500602  0.499141\n",
       "1   0.499032  0.500200\n",
       "2   0.501185  0.499214\n",
       "3   0.500134  0.500482\n",
       "4   0.501114  0.500703\n",
       "..       ...       ...\n",
       "95  0.499146  0.501045\n",
       "96  0.500299  0.500140\n",
       "97  0.501476  0.500861\n",
       "98  0.500133  0.499524\n",
       "99  0.498224  0.499372\n",
       "\n",
       "[100 rows x 2 columns]"
      ]
     },
     "execution_count": 4,
     "metadata": {},
     "output_type": "execute_result"
    }
   ],
   "source": [
    "%%time\n",
    "df1.groupby(\"id\").mean()"
   ]
  },
  {
   "cell_type": "code",
   "execution_count": 5,
   "id": "c2fd9d08-bceb-4081-ab63-7e0640fef5b6",
   "metadata": {
    "tags": []
   },
   "outputs": [
    {
     "name": "stdout",
     "output_type": "stream",
     "text": [
      "CPU times: user 2.79 s, sys: 59.4 ms, total: 2.85 s\n",
      "Wall time: 2.84 s\n"
     ]
    },
    {
     "data": {
      "text/plain": [
       "0          False\n",
       "1          False\n",
       "2           True\n",
       "3          False\n",
       "4           True\n",
       "           ...  \n",
       "9999995     True\n",
       "9999996     True\n",
       "9999997     True\n",
       "9999998     True\n",
       "9999999     True\n",
       "Name: s, Length: 10000000, dtype: object"
      ]
     },
     "execution_count": 5,
     "metadata": {},
     "output_type": "execute_result"
    }
   ],
   "source": [
    "%%time\n",
    "df1[\"s\"].str.contains(\"a\")"
   ]
  },
  {
   "cell_type": "code",
   "execution_count": 6,
   "id": "e2f2ffaa-4cbd-4cfc-9083-9ddf1926661b",
   "metadata": {
    "tags": []
   },
   "outputs": [
    {
     "name": "stdout",
     "output_type": "stream",
     "text": [
      "CPU times: user 2.53 s, sys: 388 ms, total: 2.91 s\n",
      "Wall time: 2.91 s\n"
     ]
    },
    {
     "data": {
      "text/html": [
       "<div>\n",
       "<style scoped>\n",
       "    .dataframe tbody tr th:only-of-type {\n",
       "        vertical-align: middle;\n",
       "    }\n",
       "\n",
       "    .dataframe tbody tr th {\n",
       "        vertical-align: top;\n",
       "    }\n",
       "\n",
       "    .dataframe thead th {\n",
       "        text-align: right;\n",
       "    }\n",
       "</style>\n",
       "<table border=\"1\" class=\"dataframe\">\n",
       "  <thead>\n",
       "    <tr style=\"text-align: right;\">\n",
       "      <th></th>\n",
       "      <th>id</th>\n",
       "      <th>x_x</th>\n",
       "      <th>y_x</th>\n",
       "      <th>s</th>\n",
       "      <th>x_y</th>\n",
       "      <th>y_y</th>\n",
       "    </tr>\n",
       "  </thead>\n",
       "  <tbody>\n",
       "    <tr>\n",
       "      <th>0</th>\n",
       "      <td>77</td>\n",
       "      <td>0.969692</td>\n",
       "      <td>0.971755</td>\n",
       "      <td>bbgbe</td>\n",
       "      <td>NaN</td>\n",
       "      <td>NaN</td>\n",
       "    </tr>\n",
       "    <tr>\n",
       "      <th>1</th>\n",
       "      <td>91</td>\n",
       "      <td>0.626281</td>\n",
       "      <td>0.314240</td>\n",
       "      <td>dfegg</td>\n",
       "      <td>0.790885</td>\n",
       "      <td>0.276398</td>\n",
       "    </tr>\n",
       "    <tr>\n",
       "      <th>2</th>\n",
       "      <td>64</td>\n",
       "      <td>0.120894</td>\n",
       "      <td>0.761286</td>\n",
       "      <td>ddabe</td>\n",
       "      <td>NaN</td>\n",
       "      <td>NaN</td>\n",
       "    </tr>\n",
       "    <tr>\n",
       "      <th>3</th>\n",
       "      <td>86</td>\n",
       "      <td>0.344029</td>\n",
       "      <td>0.731365</td>\n",
       "      <td>eegfe</td>\n",
       "      <td>NaN</td>\n",
       "      <td>NaN</td>\n",
       "    </tr>\n",
       "    <tr>\n",
       "      <th>4</th>\n",
       "      <td>39</td>\n",
       "      <td>0.945906</td>\n",
       "      <td>0.175984</td>\n",
       "      <td>adfbf</td>\n",
       "      <td>NaN</td>\n",
       "      <td>NaN</td>\n",
       "    </tr>\n",
       "    <tr>\n",
       "      <th>...</th>\n",
       "      <td>...</td>\n",
       "      <td>...</td>\n",
       "      <td>...</td>\n",
       "      <td>...</td>\n",
       "      <td>...</td>\n",
       "      <td>...</td>\n",
       "    </tr>\n",
       "    <tr>\n",
       "      <th>10059809</th>\n",
       "      <td>75</td>\n",
       "      <td>0.507273</td>\n",
       "      <td>0.266225</td>\n",
       "      <td>accbd</td>\n",
       "      <td>NaN</td>\n",
       "      <td>NaN</td>\n",
       "    </tr>\n",
       "    <tr>\n",
       "      <th>10059810</th>\n",
       "      <td>37</td>\n",
       "      <td>0.380925</td>\n",
       "      <td>0.941207</td>\n",
       "      <td>agfbe</td>\n",
       "      <td>NaN</td>\n",
       "      <td>NaN</td>\n",
       "    </tr>\n",
       "    <tr>\n",
       "      <th>10059811</th>\n",
       "      <td>93</td>\n",
       "      <td>0.530076</td>\n",
       "      <td>0.176642</td>\n",
       "      <td>abgaa</td>\n",
       "      <td>NaN</td>\n",
       "      <td>NaN</td>\n",
       "    </tr>\n",
       "    <tr>\n",
       "      <th>10059812</th>\n",
       "      <td>85</td>\n",
       "      <td>0.326534</td>\n",
       "      <td>0.085943</td>\n",
       "      <td>efbea</td>\n",
       "      <td>NaN</td>\n",
       "      <td>NaN</td>\n",
       "    </tr>\n",
       "    <tr>\n",
       "      <th>10059813</th>\n",
       "      <td>81</td>\n",
       "      <td>0.703987</td>\n",
       "      <td>0.693038</td>\n",
       "      <td>eadbd</td>\n",
       "      <td>NaN</td>\n",
       "      <td>NaN</td>\n",
       "    </tr>\n",
       "  </tbody>\n",
       "</table>\n",
       "<p>10059814 rows × 6 columns</p>\n",
       "</div>"
      ],
      "text/plain": [
       "          id       x_x       y_x      s       x_y       y_y\n",
       "0         77  0.969692  0.971755  bbgbe       NaN       NaN\n",
       "1         91  0.626281  0.314240  dfegg  0.790885  0.276398\n",
       "2         64  0.120894  0.761286  ddabe       NaN       NaN\n",
       "3         86  0.344029  0.731365  eegfe       NaN       NaN\n",
       "4         39  0.945906  0.175984  adfbf       NaN       NaN\n",
       "...       ..       ...       ...    ...       ...       ...\n",
       "10059809  75  0.507273  0.266225  accbd       NaN       NaN\n",
       "10059810  37  0.380925  0.941207  agfbe       NaN       NaN\n",
       "10059811  93  0.530076  0.176642  abgaa       NaN       NaN\n",
       "10059812  85  0.326534  0.085943  efbea       NaN       NaN\n",
       "10059813  81  0.703987  0.693038  eadbd       NaN       NaN\n",
       "\n",
       "[10059814 rows x 6 columns]"
      ]
     },
     "execution_count": 6,
     "metadata": {},
     "output_type": "execute_result"
    }
   ],
   "source": [
    "%%time\n",
    "df1.merge(df2, on=[\"id\", \"s\"], how=\"left\")"
   ]
  },
  {
   "cell_type": "code",
   "execution_count": 7,
   "id": "d7f9a858-ce93-4e56-b0df-2674ee59a922",
   "metadata": {
    "tags": []
   },
   "outputs": [
    {
     "name": "stdout",
     "output_type": "stream",
     "text": [
      "CPU times: user 1.04 s, sys: 15.8 ms, total: 1.05 s\n",
      "Wall time: 1.05 s\n"
     ]
    },
    {
     "data": {
      "text/plain": [
       "id    10000000\n",
       "x     10000000\n",
       "y     10000000\n",
       "s      9989985\n",
       "dtype: int64"
      ]
     },
     "execution_count": 7,
     "metadata": {},
     "output_type": "execute_result"
    }
   ],
   "source": [
    "%%time\n",
    "df1.count(axis=0)"
   ]
  },
  {
   "cell_type": "code",
   "execution_count": 8,
   "id": "b6bee12d-f939-4129-b822-1eaad18bc5c6",
   "metadata": {
    "tags": []
   },
   "outputs": [
    {
     "name": "stdout",
     "output_type": "stream",
     "text": [
      "CPU times: user 1.04 s, sys: 32.6 ms, total: 1.07 s\n",
      "Wall time: 1.07 s\n"
     ]
    },
    {
     "data": {
      "text/plain": [
       "0          4\n",
       "1          4\n",
       "2          4\n",
       "3          4\n",
       "4          4\n",
       "          ..\n",
       "9999995    4\n",
       "9999996    4\n",
       "9999997    4\n",
       "9999998    4\n",
       "9999999    4\n",
       "Length: 10000000, dtype: int64"
      ]
     },
     "execution_count": 8,
     "metadata": {},
     "output_type": "execute_result"
    }
   ],
   "source": [
    "%%time\n",
    "df1.count(axis=1)"
   ]
  },
  {
   "cell_type": "markdown",
   "id": "5a373a85-5631-4408-a21b-f5e61074d0cd",
   "metadata": {},
   "source": [
    "### How does this work?"
   ]
  },
  {
   "cell_type": "markdown",
   "id": "45af6e91-90e7-45b5-92f7-61ced884207f",
   "metadata": {},
   "source": [
    "When we did `%load_ext cudf.pandas`, we made it so that `import pandas` (or any submodules) imports a proxy module:"
   ]
  },
  {
   "cell_type": "code",
   "execution_count": 9,
   "id": "a2833e03-0a3b-47fd-94f9-148a6d40da43",
   "metadata": {
    "tags": []
   },
   "outputs": [
    {
     "data": {
      "text/plain": [
       "<module 'pandas' from '/home/ashwin/miniconda3/envs/cudf-dev/lib/python3.10/site-packages/pandas/__init__.py'>"
      ]
     },
     "execution_count": 9,
     "metadata": {},
     "output_type": "execute_result"
    }
   ],
   "source": [
    "pd"
   ]
  },
  {
   "cell_type": "markdown",
   "id": "58283c96-08db-4e8d-a394-c13ff2511a3c",
   "metadata": {},
   "source": [
    "That proxy module is composed of proxy functions, and proxy types containing proxy methods:"
   ]
  },
  {
   "cell_type": "code",
   "execution_count": 10,
   "id": "8fa8945b-6a9c-448c-8afa-b04d261d97e2",
   "metadata": {
    "tags": []
   },
   "outputs": [
    {
     "name": "stdout",
     "output_type": "stream",
     "text": [
      "<class 'function'>\n",
      "<class 'type'>\n",
      "<class 'function'>\n"
     ]
    }
   ],
   "source": [
    "print(type(pd.read_csv))\n",
    "print(type(pd.DataFrame))\n",
    "print(type(pd.DataFrame.max))"
   ]
  },
  {
   "cell_type": "markdown",
   "id": "5b44bedd-4ff9-4da8-b105-9d8b0cb64f97",
   "metadata": {},
   "source": [
    "Operations on proxy functions and methods dispatch to cuDF or pandas:"
   ]
  },
  {
   "cell_type": "markdown",
   "id": "c42270df-a43e-4133-87b6-ecc441564e1e",
   "metadata": {
    "tags": []
   },
   "source": [
    "<img src=\"how-cudf-pandas-works.png\" width=\"700\">"
   ]
  },
  {
   "cell_type": "markdown",
   "id": "a12226a1-dec7-4b76-8adf-03447d6e591d",
   "metadata": {},
   "source": [
    "### Why `.count(axis=1)` is slower when `cudf.pandas` is enabled?"
   ]
  },
  {
   "cell_type": "markdown",
   "id": "9336ec54-e966-4304-ab7e-37882b56372b",
   "metadata": {},
   "source": [
    "As you can see from the diagram above, when an operation isn't supported by cuDF, we copy data from GPU to CPU and then use pandas for that operation. This copying can add signficant overhead (especially if the data is large)."
   ]
  },
  {
   "cell_type": "markdown",
   "id": "2e98494d-1474-4fdc-972f-60e30b9f6713",
   "metadata": {},
   "source": [
    "### Can we use `cudf.pandas` with other libraries?"
   ]
  },
  {
   "cell_type": "markdown",
   "id": "6c77ee37-154e-4863-b9cf-adde44eaa403",
   "metadata": {},
   "source": [
    "When `cudf.pandas` enabled, you can still pass DataFrames to other libraries and expect things to work:"
   ]
  },
  {
   "cell_type": "code",
   "execution_count": 11,
   "id": "d7ab3679-6e74-4334-bef0-62681c0f64ba",
   "metadata": {
    "tags": []
   },
   "outputs": [
    {
     "data": {
      "text/plain": [
       "<Axes: xlabel='x', ylabel='y'>"
      ]
     },
     "execution_count": 11,
     "metadata": {},
     "output_type": "execute_result"
    },
    {
     "data": {
      "image/png": "[encoded data removed]",
      "text/plain": [
       "<Figure size 640x480 with 1 Axes>"
      ]
     },
     "metadata": {},
     "output_type": "display_data"
    }
   ],
   "source": [
    "import seaborn as sns\n",
    "\n",
    "sns.scatterplot(x=df2.x[::10], y=df2.y[::10])"
   ]
  },
  {
   "cell_type": "markdown",
   "id": "8184f0c3-0834-4597-a52d-dc6f8a0a2dbf",
   "metadata": {},
   "source": [
    "## Part 2: Understanding Performance"
   ]
  },
  {
   "cell_type": "markdown",
   "id": "20dd407a-c4fc-48d7-ac7b-e208431377e1",
   "metadata": {},
   "source": [
    "Let's generate some data and do some timeseries operations with it:"
   ]
  },
  {
   "cell_type": "code",
   "execution_count": 12,
   "id": "2f26eeab-ba5f-45e6-9205-4a12e13462ef",
   "metadata": {
    "tags": []
   },
   "outputs": [
    {
     "name": "stdout",
     "output_type": "stream",
     "text": [
      "CPU times: user 8.69 s, sys: 2.17 s, total: 10.9 s\n",
      "Wall time: 10.8 s\n"
     ]
    },
    {
     "data": {
      "text/html": [
       "<div>\n",
       "<style scoped>\n",
       "    .dataframe tbody tr th:only-of-type {\n",
       "        vertical-align: middle;\n",
       "    }\n",
       "\n",
       "    .dataframe tbody tr th {\n",
       "        vertical-align: top;\n",
       "    }\n",
       "\n",
       "    .dataframe thead th {\n",
       "        text-align: right;\n",
       "    }\n",
       "</style>\n",
       "<table border=\"1\" class=\"dataframe\">\n",
       "  <thead>\n",
       "    <tr style=\"text-align: right;\">\n",
       "      <th></th>\n",
       "      <th>a</th>\n",
       "      <th>b</th>\n",
       "    </tr>\n",
       "  </thead>\n",
       "  <tbody>\n",
       "    <tr>\n",
       "      <th>2023-01-01</th>\n",
       "      <td>0.499671</td>\n",
       "      <td>0.500023</td>\n",
       "    </tr>\n",
       "    <tr>\n",
       "      <th>2023-01-02</th>\n",
       "      <td>0.499865</td>\n",
       "      <td>0.499970</td>\n",
       "    </tr>\n",
       "    <tr>\n",
       "      <th>2023-01-03</th>\n",
       "      <td>0.500127</td>\n",
       "      <td>0.499953</td>\n",
       "    </tr>\n",
       "    <tr>\n",
       "      <th>2023-01-04</th>\n",
       "      <td>0.499794</td>\n",
       "      <td>0.499936</td>\n",
       "    </tr>\n",
       "    <tr>\n",
       "      <th>2023-01-05</th>\n",
       "      <td>0.500282</td>\n",
       "      <td>0.500014</td>\n",
       "    </tr>\n",
       "  </tbody>\n",
       "</table>\n",
       "</div>"
      ],
      "text/plain": [
       "                   a         b\n",
       "2023-01-01  0.499671  0.500023\n",
       "2023-01-02  0.499865  0.499970\n",
       "2023-01-03  0.500127  0.499953\n",
       "2023-01-04  0.499794  0.499936\n",
       "2023-01-05  0.500282  0.500014"
      ]
     },
     "execution_count": 12,
     "metadata": {},
     "output_type": "execute_result"
    }
   ],
   "source": [
    "%%time\n",
    "\n",
    "# generate some random timeseries data:\n",
    "rng = pd.date_range(\"2023-01-01\", \"2023-02-01\", freq=\"10ms\")\n",
    "data = pd.DataFrame(\n",
    "    {\n",
    "        \"a\": np.random.rand(len(rng)),\n",
    "        \"b\": np.random.rand(len(rng))\n",
    "    },\n",
    "    index=rng\n",
    ")\n",
    "\n",
    "# filter the data to just between 9:30am and 4pm:\n",
    "data = data.iloc[rng.indexer_between_time(\"09:30\", \"16:00\")]\n",
    "\n",
    "# get daily means:\n",
    "results = data.groupby(pd.Grouper(freq=\"1D\")).mean()\n",
    "results.head()"
   ]
  },
  {
   "cell_type": "markdown",
   "id": "9a9d4495-4846-448a-80f0-f1fba9435d50",
   "metadata": {},
   "source": [
    "That runs quite slowly, even when `cudf.pandas` is enabled. Notice what happens when you run the same code with the `%%cudf.pandas.profile` magic: "
   ]
  },
  {
   "cell_type": "markdown",
   "id": "2fa8dde2-e5e0-4efd-8843-17d61aecc3cb",
   "metadata": {},
   "source": [
    "### Optimizing our code for GPU execution"
   ]
  },
  {
   "cell_type": "markdown",
   "id": "fc9664f9-6161-482c-89dd-f6b7e3ac0f68",
   "metadata": {
    "tags": []
   },
   "source": [
    "The key to getting great performance with `cudf.pandas` is to minimize the number of operations that fall back to CPU. While rarely, this cannot be avoided, it often can be achieved with simple rewrites of your code. Let's rewrite the code to use operations that _are_ supported by cuDF:"
   ]
  },
  {
   "cell_type": "code",
   "execution_count": 13,
   "id": "1ec86cec-6d27-4cc7-bd1b-512c0ac42354",
   "metadata": {
    "tags": []
   },
   "outputs": [
    {
     "name": "stdout",
     "output_type": "stream",
     "text": [
      "CPU times: user 6.05 s, sys: 365 ms, total: 6.42 s\n",
      "Wall time: 6.24 s\n"
     ]
    },
    {
     "data": {
      "text/html": [
       "<div>\n",
       "<style scoped>\n",
       "    .dataframe tbody tr th:only-of-type {\n",
       "        vertical-align: middle;\n",
       "    }\n",
       "\n",
       "    .dataframe tbody tr th {\n",
       "        vertical-align: top;\n",
       "    }\n",
       "\n",
       "    .dataframe thead th {\n",
       "        text-align: right;\n",
       "    }\n",
       "</style>\n",
       "<table border=\"1\" class=\"dataframe\">\n",
       "  <thead>\n",
       "    <tr style=\"text-align: right;\">\n",
       "      <th></th>\n",
       "      <th>a</th>\n",
       "      <th>b</th>\n",
       "    </tr>\n",
       "  </thead>\n",
       "  <tbody>\n",
       "    <tr>\n",
       "      <th>2023-01-01</th>\n",
       "      <td>0.499702</td>\n",
       "      <td>0.499558</td>\n",
       "    </tr>\n",
       "    <tr>\n",
       "      <th>2023-01-02</th>\n",
       "      <td>0.499623</td>\n",
       "      <td>0.499771</td>\n",
       "    </tr>\n",
       "    <tr>\n",
       "      <th>2023-01-03</th>\n",
       "      <td>0.500025</td>\n",
       "      <td>0.499985</td>\n",
       "    </tr>\n",
       "    <tr>\n",
       "      <th>2023-01-04</th>\n",
       "      <td>0.500136</td>\n",
       "      <td>0.499982</td>\n",
       "    </tr>\n",
       "    <tr>\n",
       "      <th>2023-01-05</th>\n",
       "      <td>0.499988</td>\n",
       "      <td>0.499545</td>\n",
       "    </tr>\n",
       "  </tbody>\n",
       "</table>\n",
       "</div>"
      ],
      "text/plain": [
       "                   a         b\n",
       "2023-01-01  0.499702  0.499558\n",
       "2023-01-02  0.499623  0.499771\n",
       "2023-01-03  0.500025  0.499985\n",
       "2023-01-04  0.500136  0.499982\n",
       "2023-01-05  0.499988  0.499545"
      ]
     },
     "execution_count": 13,
     "metadata": {},
     "output_type": "execute_result"
    }
   ],
   "source": [
    "%%time\n",
    "\n",
    "rng = pd.date_range(\"2023-01-01\", \"2023-02-01\", freq=\"100ms\")\n",
    "data = pd.DataFrame(\n",
    "    {\n",
    "        \"a\": np.random.rand(len(rng)),\n",
    "        \"b\": np.random.rand(len(rng))\n",
    "    },\n",
    "    index=rng\n",
    ")\n",
    "\n",
    "# note: using datetime properties instead of `indexer_between_time`:\n",
    "data = data.iloc[((rng.hour >= 9) & (rng.minute >= 30)) | (rng.hour <= 16)]\n",
    "\n",
    "results = data.groupby(pd.Grouper(freq=\"1D\")).mean()\n",
    "results.head()"
   ]
  },
  {
   "cell_type": "markdown",
   "id": "d19b1cce-69e6-496f-bfac-a535f7f30c09",
   "metadata": {},
   "source": [
    "Not only is this _much_ faster on the GPU, but it's also quite a bit faster on the CPU - a nice win-win!"
   ]
  },
  {
   "cell_type": "markdown",
   "id": "94b74036-3093-4f64-b228-3ad17ed6fbbd",
   "metadata": {},
   "source": [
    "## Part 3: third-party code acceleration"
   ]
  },
  {
   "cell_type": "markdown",
   "id": "1845dff0-7112-4ecd-9308-d76e58e0afa2",
   "metadata": {},
   "source": [
    "In this section, we'll demonstrate how `cudf.pandas` works with third-party libraries that depend on pandas.\n",
    "\n",
    "We'll load some data into a DataFrame and use [langchain's Pandas integration](https://python.langchain.com/docs/integrations/toolkits/pandas) to answer questions about that data. We'll see that even though langchain doesn't know anything about cuDF, it will still automagically use the GPU to answer those questions much faster than with regular pandas!\n",
    "\n",
    "⚠️ Note that at the time of writing, `langchain` is undergoing considerable changes (for example, see [here](https://github.com/langchain-ai/langchain/discussions/14243)). You may have to change some of the code in this notebook to make it work.\n",
    "\n",
    "💰❗ Here we're using OpenAI's `gpt-4` model with langchain ([setup instructions](https://python.langchain.com/docs/integrations/llms/openai)). Note that at the time of writing, you need to buy credits from OpenAI to use this model via API."
   ]
  },
  {
   "cell_type": "code",
   "execution_count": 14,
   "id": "52a1203d-5f0e-4e56-969e-64ea89a26684",
   "metadata": {
    "tags": []
   },
   "outputs": [],
   "source": [
    "from langchain.agents.agent_types import AgentType\n",
    "from langchain.chat_models import ChatOpenAI\n",
    "from langchain_experimental.agents.agent_toolkits import create_pandas_dataframe_agent\n",
    "from langchain.llms import OpenAI\n",
    "\n",
    "from langchain.cache import SQLiteCache\n",
    "from langchain.globals import set_llm_cache\n",
    "set_llm_cache(SQLiteCache(database_path=\".langchain.db\"))"
   ]
  },
  {
   "cell_type": "markdown",
   "id": "4156e11a-a35a-4784-9874-23c765ba758a",
   "metadata": {},
   "source": [
    "### Loading the data"
   ]
  },
  {
   "cell_type": "code",
   "execution_count": 15,
   "id": "99fc23b8-1b0f-46ce-8b41-2db6fa2df749",
   "metadata": {
    "tags": []
   },
   "outputs": [
    {
     "data": {
      "text/html": [
       "<div>\n",
       "<style scoped>\n",
       "    .dataframe tbody tr th:only-of-type {\n",
       "        vertical-align: middle;\n",
       "    }\n",
       "\n",
       "    .dataframe tbody tr th {\n",
       "        vertical-align: top;\n",
       "    }\n",
       "\n",
       "    .dataframe thead th {\n",
       "        text-align: right;\n",
       "    }\n",
       "</style>\n",
       "<table border=\"1\" class=\"dataframe\">\n",
       "  <thead>\n",
       "    <tr style=\"text-align: right;\">\n",
       "      <th></th>\n",
       "      <th>VendorID</th>\n",
       "      <th>tpep_pickup_datetime</th>\n",
       "      <th>tpep_dropoff_datetime</th>\n",
       "      <th>passenger_count</th>\n",
       "      <th>tip_amount</th>\n",
       "    </tr>\n",
       "  </thead>\n",
       "  <tbody>\n",
       "    <tr>\n",
       "      <th>0</th>\n",
       "      <td>1</td>\n",
       "      <td>2021-01-01 00:30:10</td>\n",
       "      <td>2021-01-01 00:36:12</td>\n",
       "      <td>1.0</td>\n",
       "      <td>0.00</td>\n",
       "    </tr>\n",
       "    <tr>\n",
       "      <th>1</th>\n",
       "      <td>1</td>\n",
       "      <td>2021-01-01 00:51:20</td>\n",
       "      <td>2021-01-01 00:52:19</td>\n",
       "      <td>1.0</td>\n",
       "      <td>0.00</td>\n",
       "    </tr>\n",
       "    <tr>\n",
       "      <th>2</th>\n",
       "      <td>1</td>\n",
       "      <td>2021-01-01 00:43:30</td>\n",
       "      <td>2021-01-01 01:11:06</td>\n",
       "      <td>1.0</td>\n",
       "      <td>8.65</td>\n",
       "    </tr>\n",
       "    <tr>\n",
       "      <th>3</th>\n",
       "      <td>1</td>\n",
       "      <td>2021-01-01 00:15:48</td>\n",
       "      <td>2021-01-01 00:31:01</td>\n",
       "      <td>0.0</td>\n",
       "      <td>6.05</td>\n",
       "    </tr>\n",
       "    <tr>\n",
       "      <th>4</th>\n",
       "      <td>2</td>\n",
       "      <td>2021-01-01 00:31:49</td>\n",
       "      <td>2021-01-01 00:48:21</td>\n",
       "      <td>1.0</td>\n",
       "      <td>4.06</td>\n",
       "    </tr>\n",
       "  </tbody>\n",
       "</table>\n",
       "</div>"
      ],
      "text/plain": [
       "   VendorID tpep_pickup_datetime tpep_dropoff_datetime  passenger_count  \\\n",
       "0         1  2021-01-01 00:30:10   2021-01-01 00:36:12              1.0   \n",
       "1         1  2021-01-01 00:51:20   2021-01-01 00:52:19              1.0   \n",
       "2         1  2021-01-01 00:43:30   2021-01-01 01:11:06              1.0   \n",
       "3         1  2021-01-01 00:15:48   2021-01-01 00:31:01              0.0   \n",
       "4         2  2021-01-01 00:31:49   2021-01-01 00:48:21              1.0   \n",
       "\n",
       "   tip_amount  \n",
       "0        0.00  \n",
       "1        0.00  \n",
       "2        8.65  \n",
       "3        6.05  \n",
       "4        4.06  "
      ]
     },
     "execution_count": 15,
     "metadata": {},
     "output_type": "execute_result"
    }
   ],
   "source": [
    "df = pd.concat(\n",
    "    [\n",
    "        pd.read_parquet(\"yellow_tripdata_2021-{:02d}.parquet\".format(i))\n",
    "        for i in range(1, 13)\n",
    "    ]\n",
    ")\n",
    "\n",
    "df = df[[\"VendorID\",\n",
    "         \"tpep_pickup_datetime\",\n",
    "         \"tpep_dropoff_datetime\",\n",
    "         \"passenger_count\",\n",
    "         \"tip_amount\"]]\n",
    "\n",
    "df.head()"
   ]
  },
  {
   "cell_type": "markdown",
   "id": "99b10bbd-93a4-4d56-bb2d-a27cb34d30cf",
   "metadata": {},
   "source": [
    "### Asking questions about our data"
   ]
  },
  {
   "cell_type": "code",
   "execution_count": 16,
   "id": "42a08fa4-4b39-452c-92e1-4eddd6382e0b",
   "metadata": {
    "tags": []
   },
   "outputs": [],
   "source": [
    "agent = create_pandas_dataframe_agent(\n",
    "    ChatOpenAI(temperature=0, model=\"gpt-4\"),\n",
    "    df,\n",
    "    agent_type=AgentType.OPENAI_FUNCTIONS,\n",
    "    handle_parsing_errors=True,\n",
    ")"
   ]
  },
  {
   "cell_type": "code",
   "execution_count": 17,
   "id": "46523bd2-ec99-4a5e-ba4d-64ef3634ec0a",
   "metadata": {},
   "outputs": [
    {
     "name": "stdout",
     "output_type": "stream",
     "text": [
      "There are 30,904,308 rows in the dataframe.\n",
      "CPU times: user 16.1 ms, sys: 33 µs, total: 16.1 ms\n",
      "Wall time: 15.4 ms\n"
     ]
    }
   ],
   "source": [
    "%%time\n",
    "print(agent.run(\"How many rows are there?\"))"
   ]
  },
  {
   "cell_type": "code",
   "execution_count": 18,
   "id": "089538d2-1a26-4d3a-8dce-570e33f2f38b",
   "metadata": {},
   "outputs": [
    {
     "name": "stdout",
     "output_type": "stream",
     "text": [
      "The vendor with the ID 2 received the most tips.\n",
      "CPU times: user 386 ms, sys: 75.9 ms, total: 462 ms\n",
      "Wall time: 461 ms\n"
     ]
    }
   ],
   "source": [
    "%%time\n",
    "print(agent.run(\"Which vendor received the most tips?\"))"
   ]
  },
  {
   "cell_type": "code",
   "execution_count": 19,
   "id": "e385f017-3279-4761-abdf-af95de754a85",
   "metadata": {
    "tags": []
   },
   "outputs": [
    {
     "name": "stdout",
     "output_type": "stream",
     "text": [
      "The 30-minute window with the most trips is from 18:30 to 19:00 on 2021-12-03.\n",
      "\n",
      "The 1-hour window with the most trips is from 18:00 to 19:00 on 2021-12-03.\n",
      "\n",
      "The 2-hour window with the most trips is from 18:00 to 20:00 on 2021-11-19.\n",
      "\n",
      "The 5-hour window with the most trips is from 17:00 to 22:00 on 2021-12-03.\n",
      "\n",
      "The 24-hour window with the most trips is from 00:00 to 23:59 on 2021-12-03.\n",
      "CPU times: user 50.3 s, sys: 5.35 s, total: 55.7 s\n",
      "Wall time: 55.9 s\n"
     ]
    }
   ],
   "source": [
    "%%time\n",
    "print(\n",
    "    agent.run(\n",
    "        \"\"\"\n",
    "        Which 30-minute, 1-hour, 2-hour, 5-hour and 24-hour windows have the most trips?\n",
    "        Don't use any inplace operations please!\n",
    "        \"\"\"\n",
    "    )\n",
    ")"
   ]
  }
 ],
 "metadata": {
  "kernelspec": {
   "display_name": "Python 3 (ipykernel)",
   "language": "python",
   "name": "python3"
  },
  "language_info": {
   "codemirror_mode": {
    "name": "ipython",
    "version": 3
   },
   "file_extension": ".py",
   "mimetype": "text/x-python",
   "name": "python",
   "nbconvert_exporter": "python",
   "pygments_lexer": "ipython3",
   "version": "3.10.13"
  }
 },
 "nbformat": 4,
 "nbformat_minor": 5
}

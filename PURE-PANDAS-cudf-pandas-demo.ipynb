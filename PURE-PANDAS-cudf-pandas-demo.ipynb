{
 "cells": [
  {
   "cell_type": "markdown",
   "id": "590899b6-3e3e-430c-8dda-e3233af617c2",
   "metadata": {},
   "source": [
    "## Part 1: Quick intro to cudf.pandas 🚀🐼"
   ]
  },
  {
   "cell_type": "markdown",
   "id": "557e4d86-803b-4d9a-8dc1-225e7b336b55",
   "metadata": {},
   "source": [
    "Comment this line in or out depending on whether you want to enable `cudf.pandas`:"
   ]
  },
  {
   "cell_type": "code",
   "execution_count": 1,
   "id": "40f20164-b5da-4354-997f-b3b4da0a9566",
   "metadata": {
    "tags": []
   },
   "outputs": [],
   "source": [
    "#%load_ext cudf.pandas"
   ]
  },
  {
   "cell_type": "code",
   "execution_count": 2,
   "id": "66f26e46-fc85-4cb6-b443-84c59093a062",
   "metadata": {
    "tags": []
   },
   "outputs": [],
   "source": [
    "import pandas as pd\n",
    "import numpy as np\n",
    "import random\n",
    "import string"
   ]
  },
  {
   "cell_type": "markdown",
   "id": "6757b30c-a09f-45d2-baa6-55063734fd2e",
   "metadata": {},
   "source": [
    "In this section, we're running some basic pandas functions with randomly generated data and timing them."
   ]
  },
  {
   "cell_type": "code",
   "execution_count": 3,
   "id": "74f59c30-3057-41ac-b2df-130fc71bd25a",
   "metadata": {
    "tags": []
   },
   "outputs": [],
   "source": [
    "STRINGS = [\"\".join(random.choices(\"abcdefg\", k=5)) for _ in range(1000)] + [None]    \n",
    "\n",
    "def make_df(size):\n",
    "    return pd.DataFrame(\n",
    "        {\n",
    "            \"id\": np.random.randint(low=0, high=100, size=size),\n",
    "            \"x\": np.random.rand(size),\n",
    "            \"y\": np.random.rand(size),\n",
    "            \"s\": random.choices(STRINGS, k=size)\n",
    "        }\n",
    "    )\n",
    "\n",
    "df1 = make_df(10_000_000)\n",
    "df2 = make_df(10_000)"
   ]
  },
  {
   "cell_type": "code",
   "execution_count": 4,
   "id": "a32ea1a3-54cf-44a5-b0fe-a9ae270d3589",
   "metadata": {
    "tags": []
   },
   "outputs": [
    {
     "name": "stdout",
     "output_type": "stream",
     "text": [
      "CPU times: user 138 ms, sys: 24.3 ms, total: 162 ms\n",
      "Wall time: 160 ms\n"
     ]
    },
    {
     "name": "stderr",
     "output_type": "stream",
     "text": [
      "<timed eval>:1: FutureWarning: The default value of numeric_only in DataFrameGroupBy.mean is deprecated. In a future version, numeric_only will default to False. Either specify numeric_only or select only columns which should be valid for the function.\n"
     ]
    },
    {
     "data": {
      "text/html": [
       "<div>\n",
       "<style scoped>\n",
       "    .dataframe tbody tr th:only-of-type {\n",
       "        vertical-align: middle;\n",
       "    }\n",
       "\n",
       "    .dataframe tbody tr th {\n",
       "        vertical-align: top;\n",
       "    }\n",
       "\n",
       "    .dataframe thead th {\n",
       "        text-align: right;\n",
       "    }\n",
       "</style>\n",
       "<table border=\"1\" class=\"dataframe\">\n",
       "  <thead>\n",
       "    <tr style=\"text-align: right;\">\n",
       "      <th></th>\n",
       "      <th>x</th>\n",
       "      <th>y</th>\n",
       "    </tr>\n",
       "    <tr>\n",
       "      <th>id</th>\n",
       "      <th></th>\n",
       "      <th></th>\n",
       "    </tr>\n",
       "  </thead>\n",
       "  <tbody>\n",
       "    <tr>\n",
       "      <th>0</th>\n",
       "      <td>0.499358</td>\n",
       "      <td>0.499688</td>\n",
       "    </tr>\n",
       "    <tr>\n",
       "      <th>1</th>\n",
       "      <td>0.499756</td>\n",
       "      <td>0.500795</td>\n",
       "    </tr>\n",
       "    <tr>\n",
       "      <th>2</th>\n",
       "      <td>0.497708</td>\n",
       "      <td>0.498038</td>\n",
       "    </tr>\n",
       "    <tr>\n",
       "      <th>3</th>\n",
       "      <td>0.499200</td>\n",
       "      <td>0.500295</td>\n",
       "    </tr>\n",
       "    <tr>\n",
       "      <th>4</th>\n",
       "      <td>0.500416</td>\n",
       "      <td>0.500436</td>\n",
       "    </tr>\n",
       "    <tr>\n",
       "      <th>...</th>\n",
       "      <td>...</td>\n",
       "      <td>...</td>\n",
       "    </tr>\n",
       "    <tr>\n",
       "      <th>95</th>\n",
       "      <td>0.499947</td>\n",
       "      <td>0.499652</td>\n",
       "    </tr>\n",
       "    <tr>\n",
       "      <th>96</th>\n",
       "      <td>0.500072</td>\n",
       "      <td>0.500864</td>\n",
       "    </tr>\n",
       "    <tr>\n",
       "      <th>97</th>\n",
       "      <td>0.499916</td>\n",
       "      <td>0.500326</td>\n",
       "    </tr>\n",
       "    <tr>\n",
       "      <th>98</th>\n",
       "      <td>0.499745</td>\n",
       "      <td>0.501444</td>\n",
       "    </tr>\n",
       "    <tr>\n",
       "      <th>99</th>\n",
       "      <td>0.498700</td>\n",
       "      <td>0.500760</td>\n",
       "    </tr>\n",
       "  </tbody>\n",
       "</table>\n",
       "<p>100 rows × 2 columns</p>\n",
       "</div>"
      ],
      "text/plain": [
       "           x         y\n",
       "id                    \n",
       "0   0.499358  0.499688\n",
       "1   0.499756  0.500795\n",
       "2   0.497708  0.498038\n",
       "3   0.499200  0.500295\n",
       "4   0.500416  0.500436\n",
       "..       ...       ...\n",
       "95  0.499947  0.499652\n",
       "96  0.500072  0.500864\n",
       "97  0.499916  0.500326\n",
       "98  0.499745  0.501444\n",
       "99  0.498700  0.500760\n",
       "\n",
       "[100 rows x 2 columns]"
      ]
     },
     "execution_count": 4,
     "metadata": {},
     "output_type": "execute_result"
    }
   ],
   "source": [
    "%%time\n",
    "df1.groupby(\"id\").mean()"
   ]
  },
  {
   "cell_type": "code",
   "execution_count": 5,
   "id": "c2fd9d08-bceb-4081-ab63-7e0640fef5b6",
   "metadata": {
    "tags": []
   },
   "outputs": [
    {
     "name": "stdout",
     "output_type": "stream",
     "text": [
      "CPU times: user 3.02 s, sys: 42.8 ms, total: 3.07 s\n",
      "Wall time: 3.06 s\n"
     ]
    },
    {
     "data": {
      "text/plain": [
       "0          False\n",
       "1          False\n",
       "2          False\n",
       "3          False\n",
       "4           True\n",
       "           ...  \n",
       "9999995    False\n",
       "9999996    False\n",
       "9999997     True\n",
       "9999998     True\n",
       "9999999     True\n",
       "Name: s, Length: 10000000, dtype: object"
      ]
     },
     "execution_count": 5,
     "metadata": {},
     "output_type": "execute_result"
    }
   ],
   "source": [
    "%%time\n",
    "df1[\"s\"].str.contains(\"a\")"
   ]
  },
  {
   "cell_type": "code",
   "execution_count": 6,
   "id": "e2f2ffaa-4cbd-4cfc-9083-9ddf1926661b",
   "metadata": {
    "tags": []
   },
   "outputs": [
    {
     "name": "stdout",
     "output_type": "stream",
     "text": [
      "CPU times: user 2.57 s, sys: 404 ms, total: 2.97 s\n",
      "Wall time: 2.97 s\n"
     ]
    },
    {
     "data": {
      "text/html": [
       "<div>\n",
       "<style scoped>\n",
       "    .dataframe tbody tr th:only-of-type {\n",
       "        vertical-align: middle;\n",
       "    }\n",
       "\n",
       "    .dataframe tbody tr th {\n",
       "        vertical-align: top;\n",
       "    }\n",
       "\n",
       "    .dataframe thead th {\n",
       "        text-align: right;\n",
       "    }\n",
       "</style>\n",
       "<table border=\"1\" class=\"dataframe\">\n",
       "  <thead>\n",
       "    <tr style=\"text-align: right;\">\n",
       "      <th></th>\n",
       "      <th>id</th>\n",
       "      <th>x_x</th>\n",
       "      <th>y_x</th>\n",
       "      <th>s</th>\n",
       "      <th>x_y</th>\n",
       "      <th>y_y</th>\n",
       "    </tr>\n",
       "  </thead>\n",
       "  <tbody>\n",
       "    <tr>\n",
       "      <th>0</th>\n",
       "      <td>12</td>\n",
       "      <td>0.764342</td>\n",
       "      <td>0.471150</td>\n",
       "      <td>cefbd</td>\n",
       "      <td>0.697129</td>\n",
       "      <td>0.341509</td>\n",
       "    </tr>\n",
       "    <tr>\n",
       "      <th>1</th>\n",
       "      <td>21</td>\n",
       "      <td>0.661289</td>\n",
       "      <td>0.601060</td>\n",
       "      <td>ccfbf</td>\n",
       "      <td>NaN</td>\n",
       "      <td>NaN</td>\n",
       "    </tr>\n",
       "    <tr>\n",
       "      <th>2</th>\n",
       "      <td>31</td>\n",
       "      <td>0.151743</td>\n",
       "      <td>0.297719</td>\n",
       "      <td>fedbe</td>\n",
       "      <td>NaN</td>\n",
       "      <td>NaN</td>\n",
       "    </tr>\n",
       "    <tr>\n",
       "      <th>3</th>\n",
       "      <td>27</td>\n",
       "      <td>0.350116</td>\n",
       "      <td>0.801763</td>\n",
       "      <td>fcgef</td>\n",
       "      <td>0.494223</td>\n",
       "      <td>0.009521</td>\n",
       "    </tr>\n",
       "    <tr>\n",
       "      <th>4</th>\n",
       "      <td>27</td>\n",
       "      <td>0.350116</td>\n",
       "      <td>0.801763</td>\n",
       "      <td>fcgef</td>\n",
       "      <td>0.580111</td>\n",
       "      <td>0.781816</td>\n",
       "    </tr>\n",
       "    <tr>\n",
       "      <th>...</th>\n",
       "      <td>...</td>\n",
       "      <td>...</td>\n",
       "      <td>...</td>\n",
       "      <td>...</td>\n",
       "      <td>...</td>\n",
       "      <td>...</td>\n",
       "    </tr>\n",
       "    <tr>\n",
       "      <th>10057172</th>\n",
       "      <td>94</td>\n",
       "      <td>0.636713</td>\n",
       "      <td>0.765454</td>\n",
       "      <td>cgdeg</td>\n",
       "      <td>NaN</td>\n",
       "      <td>NaN</td>\n",
       "    </tr>\n",
       "    <tr>\n",
       "      <th>10057173</th>\n",
       "      <td>13</td>\n",
       "      <td>0.087433</td>\n",
       "      <td>0.733842</td>\n",
       "      <td>dgdfd</td>\n",
       "      <td>NaN</td>\n",
       "      <td>NaN</td>\n",
       "    </tr>\n",
       "    <tr>\n",
       "      <th>10057174</th>\n",
       "      <td>5</td>\n",
       "      <td>0.292439</td>\n",
       "      <td>0.682206</td>\n",
       "      <td>afebb</td>\n",
       "      <td>NaN</td>\n",
       "      <td>NaN</td>\n",
       "    </tr>\n",
       "    <tr>\n",
       "      <th>10057175</th>\n",
       "      <td>44</td>\n",
       "      <td>0.511023</td>\n",
       "      <td>0.369774</td>\n",
       "      <td>dbabd</td>\n",
       "      <td>NaN</td>\n",
       "      <td>NaN</td>\n",
       "    </tr>\n",
       "    <tr>\n",
       "      <th>10057176</th>\n",
       "      <td>54</td>\n",
       "      <td>0.024402</td>\n",
       "      <td>0.400486</td>\n",
       "      <td>fbbda</td>\n",
       "      <td>NaN</td>\n",
       "      <td>NaN</td>\n",
       "    </tr>\n",
       "  </tbody>\n",
       "</table>\n",
       "<p>10057177 rows × 6 columns</p>\n",
       "</div>"
      ],
      "text/plain": [
       "          id       x_x       y_x      s       x_y       y_y\n",
       "0         12  0.764342  0.471150  cefbd  0.697129  0.341509\n",
       "1         21  0.661289  0.601060  ccfbf       NaN       NaN\n",
       "2         31  0.151743  0.297719  fedbe       NaN       NaN\n",
       "3         27  0.350116  0.801763  fcgef  0.494223  0.009521\n",
       "4         27  0.350116  0.801763  fcgef  0.580111  0.781816\n",
       "...       ..       ...       ...    ...       ...       ...\n",
       "10057172  94  0.636713  0.765454  cgdeg       NaN       NaN\n",
       "10057173  13  0.087433  0.733842  dgdfd       NaN       NaN\n",
       "10057174   5  0.292439  0.682206  afebb       NaN       NaN\n",
       "10057175  44  0.511023  0.369774  dbabd       NaN       NaN\n",
       "10057176  54  0.024402  0.400486  fbbda       NaN       NaN\n",
       "\n",
       "[10057177 rows x 6 columns]"
      ]
     },
     "execution_count": 6,
     "metadata": {},
     "output_type": "execute_result"
    }
   ],
   "source": [
    "%%time\n",
    "df1.merge(df2, on=[\"id\", \"s\"], how=\"left\")"
   ]
  },
  {
   "cell_type": "code",
   "execution_count": 7,
   "id": "d7f9a858-ce93-4e56-b0df-2674ee59a922",
   "metadata": {
    "tags": []
   },
   "outputs": [
    {
     "name": "stdout",
     "output_type": "stream",
     "text": [
      "CPU times: user 1.08 s, sys: 16.3 ms, total: 1.1 s\n",
      "Wall time: 1.09 s\n"
     ]
    },
    {
     "data": {
      "text/plain": [
       "id    10000000\n",
       "x     10000000\n",
       "y     10000000\n",
       "s      9989986\n",
       "dtype: int64"
      ]
     },
     "execution_count": 7,
     "metadata": {},
     "output_type": "execute_result"
    }
   ],
   "source": [
    "%%time\n",
    "df1.count(axis=0)"
   ]
  },
  {
   "cell_type": "code",
   "execution_count": 8,
   "id": "b6bee12d-f939-4129-b822-1eaad18bc5c6",
   "metadata": {
    "tags": []
   },
   "outputs": [
    {
     "name": "stdout",
     "output_type": "stream",
     "text": [
      "CPU times: user 1.15 s, sys: 43.8 ms, total: 1.19 s\n",
      "Wall time: 1.19 s\n"
     ]
    },
    {
     "data": {
      "text/plain": [
       "0          4\n",
       "1          4\n",
       "2          4\n",
       "3          4\n",
       "4          4\n",
       "          ..\n",
       "9999995    4\n",
       "9999996    4\n",
       "9999997    4\n",
       "9999998    4\n",
       "9999999    4\n",
       "Length: 10000000, dtype: int64"
      ]
     },
     "execution_count": 8,
     "metadata": {},
     "output_type": "execute_result"
    }
   ],
   "source": [
    "%%time\n",
    "df1.count(axis=1)"
   ]
  },
  {
   "cell_type": "markdown",
   "id": "5a373a85-5631-4408-a21b-f5e61074d0cd",
   "metadata": {},
   "source": [
    "### How does this work?"
   ]
  },
  {
   "cell_type": "markdown",
   "id": "45af6e91-90e7-45b5-92f7-61ced884207f",
   "metadata": {},
   "source": [
    "When we did `%load_ext cudf.pandas`, we made it so that `import pandas` (or any submodules) imports a proxy module:"
   ]
  },
  {
   "cell_type": "code",
   "execution_count": 9,
   "id": "a2833e03-0a3b-47fd-94f9-148a6d40da43",
   "metadata": {
    "tags": []
   },
   "outputs": [
    {
     "data": {
      "text/plain": [
       "<module 'pandas' from '/home/ashwin/miniconda3/envs/cudf-dev/lib/python3.10/site-packages/pandas/__init__.py'>"
      ]
     },
     "execution_count": 9,
     "metadata": {},
     "output_type": "execute_result"
    }
   ],
   "source": [
    "pd"
   ]
  },
  {
   "cell_type": "markdown",
   "id": "58283c96-08db-4e8d-a394-c13ff2511a3c",
   "metadata": {},
   "source": [
    "That proxy module is composed of proxy functions, and proxy types containing proxy methods:"
   ]
  },
  {
   "cell_type": "code",
   "execution_count": 10,
   "id": "8fa8945b-6a9c-448c-8afa-b04d261d97e2",
   "metadata": {
    "tags": []
   },
   "outputs": [
    {
     "name": "stdout",
     "output_type": "stream",
     "text": [
      "<class 'function'>\n",
      "<class 'type'>\n",
      "<class 'function'>\n"
     ]
    }
   ],
   "source": [
    "print(type(pd.read_csv))\n",
    "print(type(pd.DataFrame))\n",
    "print(type(pd.DataFrame.max))"
   ]
  },
  {
   "cell_type": "markdown",
   "id": "5b44bedd-4ff9-4da8-b105-9d8b0cb64f97",
   "metadata": {},
   "source": [
    "Operations on proxy functions and methods dispatch to cuDF or pandas:"
   ]
  },
  {
   "cell_type": "markdown",
   "id": "c42270df-a43e-4133-87b6-ecc441564e1e",
   "metadata": {
    "tags": []
   },
   "source": [
    "<img src=\"how-cudf-pandas-works.png\" width=\"700\">"
   ]
  },
  {
   "cell_type": "markdown",
   "id": "a12226a1-dec7-4b76-8adf-03447d6e591d",
   "metadata": {},
   "source": [
    "### Why `.count(axis=1)` is slower when `cudf.pandas` is enabled?"
   ]
  },
  {
   "cell_type": "markdown",
   "id": "9336ec54-e966-4304-ab7e-37882b56372b",
   "metadata": {},
   "source": [
    "As you can see from the diagram above, when an operation isn't supported by cuDF, we copy data from GPU to CPU and then use pandas for that operation. This copying can add signficant overhead (especially if the data is large)."
   ]
  },
  {
   "cell_type": "markdown",
   "id": "2e98494d-1474-4fdc-972f-60e30b9f6713",
   "metadata": {},
   "source": [
    "### Can we use `cudf.pandas` with other libraries?"
   ]
  },
  {
   "cell_type": "markdown",
   "id": "6c77ee37-154e-4863-b9cf-adde44eaa403",
   "metadata": {},
   "source": [
    "When `cudf.pandas` enabled, you can still pass DataFrames to other libraries and expect things to work:"
   ]
  },
  {
   "cell_type": "code",
   "execution_count": 11,
   "id": "d7ab3679-6e74-4334-bef0-62681c0f64ba",
   "metadata": {
    "tags": []
   },
   "outputs": [
    {
     "data": {
      "text/plain": [
       "<Axes: xlabel='x', ylabel='y'>"
      ]
     },
     "execution_count": 11,
     "metadata": {},
     "output_type": "execute_result"
    },
    {
     "data": {
      "image/png": "[encoded data removed]",
      "text/plain": [
       "<Figure size 640x480 with 1 Axes>"
      ]
     },
     "metadata": {},
     "output_type": "display_data"
    }
   ],
   "source": [
    "import seaborn as sns\n",
    "\n",
    "sns.scatterplot(x=df2.x[::10], y=df2.y[::10])"
   ]
  },
  {
   "cell_type": "markdown",
   "id": "8184f0c3-0834-4597-a52d-dc6f8a0a2dbf",
   "metadata": {},
   "source": [
    "## Part 2: Understanding Performance"
   ]
  },
  {
   "cell_type": "markdown",
   "id": "20dd407a-c4fc-48d7-ac7b-e208431377e1",
   "metadata": {},
   "source": [
    "Let's generate some data and do some timeseries operations with it:"
   ]
  },
  {
   "cell_type": "code",
   "execution_count": 12,
   "id": "2f26eeab-ba5f-45e6-9205-4a12e13462ef",
   "metadata": {
    "tags": []
   },
   "outputs": [
    {
     "name": "stdout",
     "output_type": "stream",
     "text": [
      "CPU times: user 9.02 s, sys: 2.12 s, total: 11.1 s\n",
      "Wall time: 11.1 s\n"
     ]
    },
    {
     "data": {
      "text/html": [
       "<div>\n",
       "<style scoped>\n",
       "    .dataframe tbody tr th:only-of-type {\n",
       "        vertical-align: middle;\n",
       "    }\n",
       "\n",
       "    .dataframe tbody tr th {\n",
       "        vertical-align: top;\n",
       "    }\n",
       "\n",
       "    .dataframe thead th {\n",
       "        text-align: right;\n",
       "    }\n",
       "</style>\n",
       "<table border=\"1\" class=\"dataframe\">\n",
       "  <thead>\n",
       "    <tr style=\"text-align: right;\">\n",
       "      <th></th>\n",
       "      <th>a</th>\n",
       "      <th>b</th>\n",
       "    </tr>\n",
       "  </thead>\n",
       "  <tbody>\n",
       "    <tr>\n",
       "      <th>2023-01-01</th>\n",
       "      <td>0.500287</td>\n",
       "      <td>0.500022</td>\n",
       "    </tr>\n",
       "    <tr>\n",
       "      <th>2023-01-02</th>\n",
       "      <td>0.499692</td>\n",
       "      <td>0.499715</td>\n",
       "    </tr>\n",
       "    <tr>\n",
       "      <th>2023-01-03</th>\n",
       "      <td>0.500093</td>\n",
       "      <td>0.500184</td>\n",
       "    </tr>\n",
       "    <tr>\n",
       "      <th>2023-01-04</th>\n",
       "      <td>0.499875</td>\n",
       "      <td>0.499713</td>\n",
       "    </tr>\n",
       "    <tr>\n",
       "      <th>2023-01-05</th>\n",
       "      <td>0.499730</td>\n",
       "      <td>0.499939</td>\n",
       "    </tr>\n",
       "  </tbody>\n",
       "</table>\n",
       "</div>"
      ],
      "text/plain": [
       "                   a         b\n",
       "2023-01-01  0.500287  0.500022\n",
       "2023-01-02  0.499692  0.499715\n",
       "2023-01-03  0.500093  0.500184\n",
       "2023-01-04  0.499875  0.499713\n",
       "2023-01-05  0.499730  0.499939"
      ]
     },
     "execution_count": 12,
     "metadata": {},
     "output_type": "execute_result"
    }
   ],
   "source": [
    "%%time\n",
    "\n",
    "# generate some random timeseries data:\n",
    "rng = pd.date_range(\"2023-01-01\", \"2023-02-01\", freq=\"10ms\")\n",
    "data = pd.DataFrame(\n",
    "    {\n",
    "        \"a\": np.random.rand(len(rng)),\n",
    "        \"b\": np.random.rand(len(rng))\n",
    "    },\n",
    "    index=rng\n",
    ")\n",
    "\n",
    "# filter the data to just between 9:30am and 4pm:\n",
    "data = data.iloc[rng.indexer_between_time(\"09:30\", \"16:00\")]\n",
    "\n",
    "# get daily means:\n",
    "results = data.groupby(pd.Grouper(freq=\"1D\")).mean()\n",
    "results.head()"
   ]
  },
  {
   "cell_type": "markdown",
   "id": "9a9d4495-4846-448a-80f0-f1fba9435d50",
   "metadata": {},
   "source": [
    "That runs quite slowly, even when `cudf.pandas` is enabled. Notice what happens when you run the same code with the `%%cudf.pandas.profile` magic: "
   ]
  },
  {
   "cell_type": "markdown",
   "id": "2fa8dde2-e5e0-4efd-8843-17d61aecc3cb",
   "metadata": {},
   "source": [
    "### Optimizing our code for GPU execution"
   ]
  },
  {
   "cell_type": "markdown",
   "id": "fc9664f9-6161-482c-89dd-f6b7e3ac0f68",
   "metadata": {
    "tags": []
   },
   "source": [
    "The key to getting great performance with `cudf.pandas` is to minimize the number of operations that fall back to CPU. While rarely, this cannot be avoided, it often can be achieved with simple rewrites of your code. Let's rewrite the code to use operations that _are_ supported by cuDF:"
   ]
  },
  {
   "cell_type": "code",
   "execution_count": 13,
   "id": "1ec86cec-6d27-4cc7-bd1b-512c0ac42354",
   "metadata": {
    "tags": []
   },
   "outputs": [
    {
     "name": "stdout",
     "output_type": "stream",
     "text": [
      "CPU times: user 6.49 s, sys: 321 ms, total: 6.81 s\n",
      "Wall time: 6.62 s\n"
     ]
    },
    {
     "data": {
      "text/html": [
       "<div>\n",
       "<style scoped>\n",
       "    .dataframe tbody tr th:only-of-type {\n",
       "        vertical-align: middle;\n",
       "    }\n",
       "\n",
       "    .dataframe tbody tr th {\n",
       "        vertical-align: top;\n",
       "    }\n",
       "\n",
       "    .dataframe thead th {\n",
       "        text-align: right;\n",
       "    }\n",
       "</style>\n",
       "<table border=\"1\" class=\"dataframe\">\n",
       "  <thead>\n",
       "    <tr style=\"text-align: right;\">\n",
       "      <th></th>\n",
       "      <th>a</th>\n",
       "      <th>b</th>\n",
       "    </tr>\n",
       "  </thead>\n",
       "  <tbody>\n",
       "    <tr>\n",
       "      <th>2023-01-01</th>\n",
       "      <td>0.500295</td>\n",
       "      <td>0.499939</td>\n",
       "    </tr>\n",
       "    <tr>\n",
       "      <th>2023-01-02</th>\n",
       "      <td>0.500823</td>\n",
       "      <td>0.499214</td>\n",
       "    </tr>\n",
       "    <tr>\n",
       "      <th>2023-01-03</th>\n",
       "      <td>0.500042</td>\n",
       "      <td>0.499758</td>\n",
       "    </tr>\n",
       "    <tr>\n",
       "      <th>2023-01-04</th>\n",
       "      <td>0.500345</td>\n",
       "      <td>0.499680</td>\n",
       "    </tr>\n",
       "    <tr>\n",
       "      <th>2023-01-05</th>\n",
       "      <td>0.500181</td>\n",
       "      <td>0.500026</td>\n",
       "    </tr>\n",
       "  </tbody>\n",
       "</table>\n",
       "</div>"
      ],
      "text/plain": [
       "                   a         b\n",
       "2023-01-01  0.500295  0.499939\n",
       "2023-01-02  0.500823  0.499214\n",
       "2023-01-03  0.500042  0.499758\n",
       "2023-01-04  0.500345  0.499680\n",
       "2023-01-05  0.500181  0.500026"
      ]
     },
     "execution_count": 13,
     "metadata": {},
     "output_type": "execute_result"
    }
   ],
   "source": [
    "%%time\n",
    "\n",
    "rng = pd.date_range(\"2023-01-01\", \"2023-02-01\", freq=\"100ms\")\n",
    "data = pd.DataFrame(\n",
    "    {\n",
    "        \"a\": np.random.rand(len(rng)),\n",
    "        \"b\": np.random.rand(len(rng))\n",
    "    },\n",
    "    index=rng\n",
    ")\n",
    "\n",
    "# note: using datetime properties instead of `indexer_between_time`:\n",
    "data = data.iloc[((rng.hour >= 9) & (rng.minute >= 30)) | (rng.hour <= 16)]\n",
    "\n",
    "results = data.groupby(pd.Grouper(freq=\"1D\")).mean()\n",
    "results.head()"
   ]
  },
  {
   "cell_type": "markdown",
   "id": "d19b1cce-69e6-496f-bfac-a535f7f30c09",
   "metadata": {},
   "source": [
    "Not only is this _much_ faster on the GPU, but it's also quite a bit faster on the CPU - a nice win-win!"
   ]
  },
  {
   "cell_type": "markdown",
   "id": "94b74036-3093-4f64-b228-3ad17ed6fbbd",
   "metadata": {},
   "source": [
    "## Part 3: third-party code acceleration"
   ]
  },
  {
   "cell_type": "markdown",
   "id": "1845dff0-7112-4ecd-9308-d76e58e0afa2",
   "metadata": {},
   "source": [
    "In this section, we'll demonstrate how `cudf.pandas` works with third-party libraries that depend on pandas.\n",
    "\n",
    "We'll load some data into a DataFrame and use [langchain's Pandas integration](https://python.langchain.com/docs/integrations/toolkits/pandas) to answer questions about that data. We'll see that even though langchain doesn't know anything about cuDF, it will still automagically use the GPU to answer those questions much faster than with regular pandas!\n",
    "\n",
    "⚠️ Note that at the time of writing, `langchain` is undergoing considerable changes (for example, see [here](https://github.com/langchain-ai/langchain/discussions/14243)). You may have to change some of the code in this notebook to make it work.\n",
    "\n",
    "💰❗ Here we're using OpenAI's `gpt-4` model with langchain ([setup instructions](https://python.langchain.com/docs/integrations/llms/openai)). Note that at the time of writing, you need to buy credits from OpenAI to use this model via API."
   ]
  },
  {
   "cell_type": "code",
   "execution_count": 14,
   "id": "52a1203d-5f0e-4e56-969e-64ea89a26684",
   "metadata": {
    "tags": []
   },
   "outputs": [],
   "source": [
    "from langchain.agents.agent_types import AgentType\n",
    "from langchain.chat_models import ChatOpenAI\n",
    "from langchain_experimental.agents.agent_toolkits import create_pandas_dataframe_agent\n",
    "from langchain.llms import OpenAI\n",
    "\n",
    "from langchain.cache import SQLiteCache\n",
    "from langchain.globals import set_llm_cache\n",
    "set_llm_cache(SQLiteCache(database_path=\".langchain.db\"))"
   ]
  },
  {
   "cell_type": "markdown",
   "id": "4156e11a-a35a-4784-9874-23c765ba758a",
   "metadata": {},
   "source": [
    "### Loading the data"
   ]
  },
  {
   "cell_type": "code",
   "execution_count": 15,
   "id": "99fc23b8-1b0f-46ce-8b41-2db6fa2df749",
   "metadata": {
    "tags": []
   },
   "outputs": [
    {
     "data": {
      "text/html": [
       "<div>\n",
       "<style scoped>\n",
       "    .dataframe tbody tr th:only-of-type {\n",
       "        vertical-align: middle;\n",
       "    }\n",
       "\n",
       "    .dataframe tbody tr th {\n",
       "        vertical-align: top;\n",
       "    }\n",
       "\n",
       "    .dataframe thead th {\n",
       "        text-align: right;\n",
       "    }\n",
       "</style>\n",
       "<table border=\"1\" class=\"dataframe\">\n",
       "  <thead>\n",
       "    <tr style=\"text-align: right;\">\n",
       "      <th></th>\n",
       "      <th>VendorID</th>\n",
       "      <th>tpep_pickup_datetime</th>\n",
       "      <th>tpep_dropoff_datetime</th>\n",
       "      <th>passenger_count</th>\n",
       "      <th>tip_amount</th>\n",
       "    </tr>\n",
       "  </thead>\n",
       "  <tbody>\n",
       "    <tr>\n",
       "      <th>0</th>\n",
       "      <td>1</td>\n",
       "      <td>2021-01-01 00:30:10</td>\n",
       "      <td>2021-01-01 00:36:12</td>\n",
       "      <td>1.0</td>\n",
       "      <td>0.00</td>\n",
       "    </tr>\n",
       "    <tr>\n",
       "      <th>1</th>\n",
       "      <td>1</td>\n",
       "      <td>2021-01-01 00:51:20</td>\n",
       "      <td>2021-01-01 00:52:19</td>\n",
       "      <td>1.0</td>\n",
       "      <td>0.00</td>\n",
       "    </tr>\n",
       "    <tr>\n",
       "      <th>2</th>\n",
       "      <td>1</td>\n",
       "      <td>2021-01-01 00:43:30</td>\n",
       "      <td>2021-01-01 01:11:06</td>\n",
       "      <td>1.0</td>\n",
       "      <td>8.65</td>\n",
       "    </tr>\n",
       "    <tr>\n",
       "      <th>3</th>\n",
       "      <td>1</td>\n",
       "      <td>2021-01-01 00:15:48</td>\n",
       "      <td>2021-01-01 00:31:01</td>\n",
       "      <td>0.0</td>\n",
       "      <td>6.05</td>\n",
       "    </tr>\n",
       "    <tr>\n",
       "      <th>4</th>\n",
       "      <td>2</td>\n",
       "      <td>2021-01-01 00:31:49</td>\n",
       "      <td>2021-01-01 00:48:21</td>\n",
       "      <td>1.0</td>\n",
       "      <td>4.06</td>\n",
       "    </tr>\n",
       "  </tbody>\n",
       "</table>\n",
       "</div>"
      ],
      "text/plain": [
       "   VendorID tpep_pickup_datetime tpep_dropoff_datetime  passenger_count  \\\n",
       "0         1  2021-01-01 00:30:10   2021-01-01 00:36:12              1.0   \n",
       "1         1  2021-01-01 00:51:20   2021-01-01 00:52:19              1.0   \n",
       "2         1  2021-01-01 00:43:30   2021-01-01 01:11:06              1.0   \n",
       "3         1  2021-01-01 00:15:48   2021-01-01 00:31:01              0.0   \n",
       "4         2  2021-01-01 00:31:49   2021-01-01 00:48:21              1.0   \n",
       "\n",
       "   tip_amount  \n",
       "0        0.00  \n",
       "1        0.00  \n",
       "2        8.65  \n",
       "3        6.05  \n",
       "4        4.06  "
      ]
     },
     "execution_count": 15,
     "metadata": {},
     "output_type": "execute_result"
    }
   ],
   "source": [
    "df = pd.concat(\n",
    "    [\n",
    "        pd.read_parquet(\"yellow_tripdata_2021-{:02d}.parquet\".format(i))\n",
    "        for i in range(1, 13)\n",
    "    ]\n",
    ")\n",
    "\n",
    "df = df[[\"VendorID\",\n",
    "         \"tpep_pickup_datetime\",\n",
    "         \"tpep_dropoff_datetime\",\n",
    "         \"passenger_count\",\n",
    "         \"tip_amount\"]]\n",
    "\n",
    "df.head()"
   ]
  },
  {
   "cell_type": "markdown",
   "id": "99b10bbd-93a4-4d56-bb2d-a27cb34d30cf",
   "metadata": {},
   "source": [
    "### Asking questions about our data"
   ]
  },
  {
   "cell_type": "code",
   "execution_count": 16,
   "id": "42a08fa4-4b39-452c-92e1-4eddd6382e0b",
   "metadata": {
    "tags": []
   },
   "outputs": [],
   "source": [
    "agent = create_pandas_dataframe_agent(\n",
    "    ChatOpenAI(temperature=0, model=\"gpt-4\"),\n",
    "    df,\n",
    "    agent_type=AgentType.OPENAI_FUNCTIONS,\n",
    "    handle_parsing_errors=True,\n",
    ")"
   ]
  },
  {
   "cell_type": "code",
   "execution_count": 17,
   "id": "46523bd2-ec99-4a5e-ba4d-64ef3634ec0a",
   "metadata": {},
   "outputs": [
    {
     "name": "stdout",
     "output_type": "stream",
     "text": [
      "There are 30,904,308 rows in the dataframe.\n",
      "CPU times: user 10.6 ms, sys: 6.69 ms, total: 17.2 ms\n",
      "Wall time: 16.5 ms\n"
     ]
    }
   ],
   "source": [
    "%%time\n",
    "print(agent.run(\"How many rows are there?\"))"
   ]
  },
  {
   "cell_type": "code",
   "execution_count": 18,
   "id": "089538d2-1a26-4d3a-8dce-570e33f2f38b",
   "metadata": {},
   "outputs": [
    {
     "name": "stdout",
     "output_type": "stream",
     "text": [
      "The vendor with the ID 2 received the most tips.\n",
      "CPU times: user 416 ms, sys: 60.6 ms, total: 477 ms\n",
      "Wall time: 475 ms\n"
     ]
    }
   ],
   "source": [
    "%%time\n",
    "print(agent.run(\"Which vendor received the most tips?\"))"
   ]
  },
  {
   "cell_type": "code",
   "execution_count": 19,
   "id": "e385f017-3279-4761-abdf-af95de754a85",
   "metadata": {
    "tags": []
   },
   "outputs": [
    {
     "name": "stdout",
     "output_type": "stream",
     "text": [
      "The 30-minute window with the most trips is from 18:30 to 19:00 on 2021-12-03.\n",
      "\n",
      "The 1-hour window with the most trips is from 18:00 to 19:00 on 2021-12-03.\n",
      "\n",
      "The 2-hour window with the most trips is from 18:00 to 20:00 on 2021-11-19.\n",
      "\n",
      "The 5-hour window with the most trips is from 17:00 to 22:00 on 2021-12-03.\n",
      "\n",
      "The 24-hour window with the most trips is from 00:00 to 23:59 on 2021-12-03.\n",
      "CPU times: user 52.5 s, sys: 5.53 s, total: 58 s\n",
      "Wall time: 58 s\n"
     ]
    }
   ],
   "source": [
    "%%time\n",
    "print(\n",
    "    agent.run(\n",
    "        \"\"\"\n",
    "        Which 30-minute, 1-hour, 2-hour, 5-hour and 24-hour windows have the most trips?\n",
    "        Don't use any inplace operations please!\n",
    "        \"\"\"\n",
    "    )\n",
    ")"
   ]
  }
 ],
 "metadata": {
  "kernelspec": {
   "display_name": "Python 3 (ipykernel)",
   "language": "python",
   "name": "python3"
  },
  "language_info": {
   "codemirror_mode": {
    "name": "ipython",
    "version": 3
   },
   "file_extension": ".py",
   "mimetype": "text/x-python",
   "name": "python",
   "nbconvert_exporter": "python",
   "pygments_lexer": "ipython3",
   "version": "3.10.13"
  }
 },
 "nbformat": 4,
 "nbformat_minor": 5
}
